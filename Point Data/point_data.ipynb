{
 "cells": [
  {
   "cell_type": "code",
   "execution_count": 1,
   "id": "f55f731f-8ea7-4800-8612-f8385f59479c",
   "metadata": {},
   "outputs": [],
   "source": [
    "import warnings\n",
    "warnings.filterwarnings('ignore')"
   ]
  },
  {
   "cell_type": "markdown",
   "id": "53b73208-0d6a-46a6-be6f-cd365fbd2ec5",
   "metadata": {},
   "source": [
    "# Looking at Point Data (CHRTOUT)"
   ]
  },
  {
   "cell_type": "markdown",
   "id": "526df34a-bd07-4de7-98a1-e4972c1952e9",
   "metadata": {},
   "source": [
    "## Load the Modules"
   ]
  },
  {
   "cell_type": "code",
   "execution_count": 34,
   "id": "361e199a-1e4c-4d7a-8e02-cc325108a2d5",
   "metadata": {},
   "outputs": [],
   "source": [
    "from dask.distributed import Client, LocalCluster\n",
    "import xarray as xr\n",
    "import os\n",
    "import time\n",
    "from IPython.display import display\n",
    "import matplotlib.pyplot as plt\n",
    "import numpy as np\n",
    "import pandas as pd"
   ]
  },
  {
   "cell_type": "code",
   "execution_count": 3,
   "id": "ad6cebd4-a5e5-4422-a7dc-7d79e104da25",
   "metadata": {},
   "outputs": [
    {
     "data": {
      "text/plain": [
       "<xarray.core.options.set_options at 0x7f9a3d69c0d0>"
      ]
     },
     "execution_count": 3,
     "metadata": {},
     "output_type": "execute_result"
    }
   ],
   "source": [
    "USER = \"x-arnav1710\"\n",
    "xr.set_options(display_style=\"html\")"
   ]
  },
  {
   "cell_type": "code",
   "execution_count": 4,
   "id": "7852494b-b027-4261-89f6-8d77cc3508de",
   "metadata": {},
   "outputs": [
    {
     "data": {
      "text/html": [
       "<table style=\"border: 2px solid white;\">\n",
       "<tr>\n",
       "<td style=\"vertical-align: top; border: 0px solid white\">\n",
       "<h3 style=\"text-align: left;\">Client</h3>\n",
       "<ul style=\"text-align: left; list-style: none; margin: 0; padding: 0;\">\n",
       "  <li><b>Scheduler: </b>tcp://127.0.0.1:39823</li>\n",
       "  <li><b>Dashboard: </b><a href='http://127.0.0.1:8787/status' target='_blank'>http://127.0.0.1:8787/status</a></li>\n",
       "</ul>\n",
       "</td>\n",
       "<td style=\"vertical-align: top; border: 0px solid white\">\n",
       "<h3 style=\"text-align: left;\">Cluster</h3>\n",
       "<ul style=\"text-align: left; list-style:none; margin: 0; padding: 0;\">\n",
       "  <li><b>Workers: </b>16</li>\n",
       "  <li><b>Cores: </b>16</li>\n",
       "  <li><b>Memory: </b>117.19 GiB</li>\n",
       "</ul>\n",
       "</td>\n",
       "</tr>\n",
       "</table>"
      ],
      "text/plain": [
       "<Client: 'tcp://127.0.0.1:39823' processes=16 threads=16, memory=117.19 GiB>"
      ]
     },
     "execution_count": 4,
     "metadata": {},
     "output_type": "execute_result"
    }
   ],
   "source": [
    "cluster = LocalCluster(n_workers=16)\n",
    "client = Client(cluster)\n",
    "client"
   ]
  },
  {
   "cell_type": "code",
   "execution_count": 5,
   "id": "cd34c539-477f-4ba7-a449-7adc039db8f2",
   "metadata": {},
   "outputs": [],
   "source": [
    "client.close()"
   ]
  },
  {
   "cell_type": "markdown",
   "id": "8db72362-3d1b-4271-b9e9-e94bb05b10f6",
   "metadata": {},
   "source": [
    "## Variable Description\n",
    "\n",
    "**CHRTOUT: Point Type (including Reach ID)**\n",
    "\n",
    "feature_id: Reach ID\n",
    "<br>\n",
    "streamflow: River Flow (m3 s-1)\n",
    "<br>\n",
    "q_lateral: Runoff into channel reach (m3 s-1)\n",
    "<br>\n",
    "velocity: River Velocity (m s-1)\n",
    "<br>\n",
    "qSfcLatRunoff: Runoff from terrain routing (m3 s-1)\n",
    "<br>\n",
    "qBucket: Flux from ground water bucket (m3 s-1)\n",
    "<br>\n",
    "qBtmVertRunoff: Runoff from bottom of soil to ground water bucket (m3)"
   ]
  },
  {
   "cell_type": "markdown",
   "id": "d539e28a-4337-4a6e-8374-c66fae60ceb7",
   "metadata": {},
   "source": [
    "### Init Test Cases\n",
    "Let's first initialize some basic test cases that we would expect researchers to query. For example: Max velocity for a 100 points etc."
   ]
  },
  {
   "cell_type": "code",
   "execution_count": 113,
   "id": "a85a8a78-3c81-44f7-8059-df76fbb385c3",
   "metadata": {},
   "outputs": [],
   "source": [
    "def maxVelocity(data, sliceStart, sliceEnd):\n",
    "    subset_data = data.sel(feature_id = slice(sliceStart, sliceEnd))\n",
    "    subset_data[\"velocity\"].max().values"
   ]
  },
  {
   "cell_type": "code",
   "execution_count": 114,
   "id": "cbd0cfda-3b89-4592-8b5d-8bc6183ef573",
   "metadata": {},
   "outputs": [],
   "source": [
    "tests = [\n",
    "    [\"Max Velocity Test\", maxVelocity]\n",
    "]"
   ]
  },
  {
   "cell_type": "code",
   "execution_count": 115,
   "id": "cc0fe7b0-4aeb-4e48-a0a5-ca3deee2d124",
   "metadata": {},
   "outputs": [],
   "source": [
    "# Design chunking schemas in a way such that querying\n",
    "# any feature of the point data is quick\n",
    "\n",
    "schemas = [\n",
    "    [\"Everything100\", {\"time\" : 100, \"feature_id\" : 100}]\n",
    "]"
   ]
  },
  {
   "cell_type": "code",
   "execution_count": 120,
   "id": "2f862b57-dc99-48fa-9a16-a7b5938a3114",
   "metadata": {},
   "outputs": [],
   "source": [
    "# we only care about point data here\n",
    "\n",
    "# researchers would only want to query\n",
    "# specific data points out\n",
    "\n",
    "REPEAT_FOR = 5\n",
    "\n",
    "def openDataSet(reg = \"\"):\n",
    "    dirpath = \"/anvil/projects/x-cis220065/x-cybergis/compute/WRFHydro-Example-Output/CHRTOUT/\"\n",
    "    dataset = xr.open_mfdataset(dirpath + \"*\" + reg + \".CHRTOUT_DOMAIN1\", \n",
    "                                engine=\"netcdf4\", combine=\"nested\",\n",
    "                                concat_dim=\"time\", parallel=\"True\")\n",
    "    return dataset\n",
    "\n",
    "def chunkForScheme(data, dimension, chunkScheme):\n",
    "    data[dimension] = data[dimension].chunk(chunkScheme)\n",
    "    return data\n",
    "\n",
    "def commitToZarr(data, filePath):\n",
    "    data.to_zarr(filePath, mode=\"w\")\n",
    "\n",
    "def getTime(data, test):\n",
    "    start = time.time()\n",
    "    for _ in range(REPEAT_FOR):\n",
    "        test[1](data, 3199274, 10038154)\n",
    "    end = time.time()\n",
    "    tot = (end - start) / REPEAT_FOR\n",
    "    return tot\n",
    "\n",
    "def chunkAndTest(chunkOn):\n",
    "    if 'cached_dataset' not in globals():\n",
    "        globals()['cached_dataset'] = openDataSet(\"104*\")\n",
    "\n",
    "    dataset = globals()['cached_dataset'].copy()\n",
    "    for schema in schemas:\n",
    "        filePath = f\"/anvil/scratch/{USER}/{schema[0]}.zarr\"\n",
    "        if not os.path.exists(filePath):\n",
    "            dataset = chunkForScheme(dataset, chunkOn, schema[1])\n",
    "            commitToZarr(dataset, filePath)\n",
    "    times = []\n",
    "    for schema in schemas:\n",
    "        filePath = f\"/anvil/scratch/{USER}/{schema[0]}.zarr\"\n",
    "        for test in tests:\n",
    "            data = xr.open_zarr(filePath)\n",
    "            times.append(getTime(data, test))\n",
    "    return times"
   ]
  },
  {
   "cell_type": "code",
   "execution_count": 121,
   "id": "72a9f9f1-242b-444f-97f0-bcdd252ae75a",
   "metadata": {},
   "outputs": [
    {
     "data": {
      "text/plain": [
       "[0.010930156707763672]"
      ]
     },
     "execution_count": 121,
     "metadata": {},
     "output_type": "execute_result"
    }
   ],
   "source": [
    "test_res = chunkAndTest(\"velocity\")\n",
    "test_res"
   ]
  }
 ],
 "metadata": {
  "kernelspec": {
   "display_name": "Python 3.8 (Anaconda 2021.05)",
   "language": "python",
   "name": "anaconda-2021.05-py38"
  },
  "language_info": {
   "codemirror_mode": {
    "name": "ipython",
    "version": 3
   },
   "file_extension": ".py",
   "mimetype": "text/x-python",
   "name": "python",
   "nbconvert_exporter": "python",
   "pygments_lexer": "ipython3",
   "version": "3.8.8"
  }
 },
 "nbformat": 4,
 "nbformat_minor": 5
}
